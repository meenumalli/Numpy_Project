{
  "nbformat": 4,
  "nbformat_minor": 0,
  "metadata": {
    "colab": {
      "name": "Untitled9.ipynb",
      "provenance": []
    },
    "kernelspec": {
      "name": "python3",
      "display_name": "Python 3"
    },
    "language_info": {
      "name": "python"
    }
  },
  "cells": [
    {
      "cell_type": "code",
      "execution_count": null,
      "metadata": {
        "id": "fHUqoIlEVNHL"
      },
      "outputs": [],
      "source": [
        "import abc \n",
        "from abc import ABC,abstractmethod\n",
        "\n",
        "class Parent(ABC):\n",
        "  def geeks(self):\n",
        "     return \"parent class\"\n",
        "\n",
        "class child(Parent):\n",
        "   def geeks(self):\n",
        "     return \"child class\"\n",
        "\n",
        "\n"
      ]
    }
  ]
}